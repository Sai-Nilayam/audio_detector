{
 "cells": [
  {
   "cell_type": "markdown",
   "id": "4ef55926",
   "metadata": {},
   "source": [
    "Here our goal is to Make an Audio Detector Applicaiton."
   ]
  },
  {
   "cell_type": "markdown",
   "id": "d2d6d75c",
   "metadata": {},
   "source": [
    "## Idea\n",
    "The idea is to make an Audio Classifier and Classify an audio of 2 Seconds. We are taking a word 'Manager' for this Project. So taking the input Audio Tensor of 2 seconds, our Model will predict whether it contains the word Manager of or not. \n",
    "\n",
    "We will slide through the entire Audio Clip and note down the Position of the Audio Tensor where the word occured. We will calculate the exact time for that Position and return the different times at where the word Manager is occured so that a human can listen to that part of the Audio and know what someone is talking about the Manager.\n",
    "\n",
    "## Approach\n",
    "Because we are moving a Sliding Window through out the Audio, so it is going to be computationally expensive. In this situation we would use a Support Vector Machine for the Classificaiton Task though a Neural Network with 1D Convolution seems like a more promising approach.\n",
    "\n",
    "## Data Collection\n",
    "For collecting the data we want 4 women and 4 men would pronounce the word Manager 8 times in an interval of 2 secs in their Natural Voice. To make a more Natural they will need to read these 8 different sentences so that they would pronouce the the word Manager in all different possible ways like Question, Statement, Exclametaion etc. \n",
    "\n",
    "Here are the sentences. \n",
    "\n",
    "1. Hi Manager!\n",
    "2. Are you the Manager?\n",
    "3. He is the Manager.\n",
    "4. Manager!\n",
    "5. Manager is an idiot.\n",
    "6. Are you okey Mr. Manager?\n",
    "7. Mr. Manager, Would you like to have a cup of tea?\n",
    "8. This is not good, Manager!\n",
    "\n",
    "Next, for the Neagative examples we need a bunch of Audio Crops those are not Managers. So now our volunteers now read the above Sentences but instead of the word 'Manager' they will say different Names. Here are the next set of sentences. \n",
    "\n",
    "1. Hi Sai!\n",
    "2. Are you Andrew?\n",
    "3. He is Mark.\n",
    "4. Steve!\n",
    "5. Billgate is an idiot.\n",
    "6. Are you okey Mr. Musk?\n",
    "7. Mr. Tom, Would you like to have a cup of tea?\n",
    "8. This is not good, Dany!\n",
    "\n",
    "Now all the Audio Clips we have are in different formats. We are going to convert all of them to mp3. "
   ]
  },
  {
   "cell_type": "markdown",
   "id": "7977d2a9",
   "metadata": {},
   "source": []
  },
  {
   "cell_type": "code",
   "execution_count": null,
   "id": "fc6054f4",
   "metadata": {},
   "outputs": [],
   "source": []
  }
 ],
 "metadata": {
  "kernelspec": {
   "display_name": "Python 3 (ipykernel)",
   "language": "python",
   "name": "python3"
  },
  "language_info": {
   "codemirror_mode": {
    "name": "ipython",
    "version": 3
   },
   "file_extension": ".py",
   "mimetype": "text/x-python",
   "name": "python",
   "nbconvert_exporter": "python",
   "pygments_lexer": "ipython3",
   "version": "3.8.10"
  }
 },
 "nbformat": 4,
 "nbformat_minor": 5
}
